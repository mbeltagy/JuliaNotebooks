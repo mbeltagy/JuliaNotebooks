{
 "cells": [
  {
   "cell_type": "markdown",
   "metadata": {},
   "source": [
    "# Channels vs. Generators vs. Iterators  \n",
    "Julia offers many way of dealing of large arrays while allocating as little of memory as possible. In this notebook, we attempt to makes a comparison of performance. The task we are interested in given to arrays, `x` and `y`, count number of times $$x_i^2+y_i^2>2y_i^2$$\n",
    "\n",
    "We start by generating our two arrays. "
   ]
  },
  {
   "cell_type": "code",
   "execution_count": 1,
   "metadata": {
    "collapsed": true
   },
   "outputs": [],
   "source": [
    "n_samples=100_000 # A hundered thousand samples\n",
    "x=rand(1:10,n_samples)\n",
    "y=rand(1:10,n_samples);"
   ]
  },
  {
   "cell_type": "markdown",
   "metadata": {},
   "source": [
    "First we try to do things in specialized and efficient function"
   ]
  },
  {
   "cell_type": "code",
   "execution_count": 2,
   "metadata": {
    "collapsed": false
   },
   "outputs": [
    {
     "data": {
      "text/plain": [
       "fast_counter (generic function with 1 method)"
      ]
     },
     "execution_count": 2,
     "metadata": {},
     "output_type": "execute_result"
    }
   ],
   "source": [
    "function fast_counter(x,y)\n",
    "    n=0\n",
    "    for i in  eachindex(x)\n",
    "        n+=ifelse(x[i]^2+y[i]^2>2y[i]^2,true,false) \n",
    "    end\n",
    "    n\n",
    "end"
   ]
  },
  {
   "cell_type": "markdown",
   "metadata": {},
   "source": [
    "We try it out"
   ]
  },
  {
   "cell_type": "code",
   "execution_count": 3,
   "metadata": {
    "collapsed": false
   },
   "outputs": [
    {
     "data": {
      "text/plain": [
       "45149"
      ]
     },
     "execution_count": 3,
     "metadata": {},
     "output_type": "execute_result"
    }
   ],
   "source": [
    "fast_counter(x,y)"
   ]
  },
  {
   "cell_type": "markdown",
   "metadata": {},
   "source": [
    "Now we benchmark it "
   ]
  },
  {
   "cell_type": "code",
   "execution_count": 4,
   "metadata": {
    "collapsed": false
   },
   "outputs": [
    {
     "name": "stdout",
     "output_type": "stream",
     "text": [
      "  118.653 μs (1 allocation: 16 bytes)\n"
     ]
    },
    {
     "data": {
      "text/plain": [
       "45149"
      ]
     },
     "execution_count": 4,
     "metadata": {},
     "output_type": "execute_result"
    }
   ],
   "source": [
    "using BenchmarkTools\n",
    "@btime fast_counter(x,y)"
   ]
  },
  {
   "cell_type": "markdown",
   "metadata": {},
   "source": [
    "Quite fast with almost not memory allocation. \n",
    "\n",
    "Now we try a solution that uses channels. First we write a function that generate a channel of specified size that is used to later to do the calculation. "
   ]
  },
  {
   "cell_type": "code",
   "execution_count": 5,
   "metadata": {
    "collapsed": false
   },
   "outputs": [
    {
     "data": {
      "text/plain": [
       "channelGen (generic function with 1 method)"
      ]
     },
     "execution_count": 5,
     "metadata": {},
     "output_type": "execute_result"
    }
   ],
   "source": [
    "function channelGen(x,y,chn_size)\n",
    "    chn=Channel(ctype=Bool,csize=chn_size) do c\n",
    "        for i in eachindex(x)\n",
    "            put!(c,x[i]^2+y[i]^2>2y[i]^2)\n",
    "        end\n",
    "    end\n",
    "    chn\n",
    "end"
   ]
  },
  {
   "cell_type": "markdown",
   "metadata": {},
   "source": [
    "The channel produces a `true` if the inequality is satisfied and `false` otherwise.  \n",
    "\n",
    "Now we do the summation using our channel"
   ]
  },
  {
   "cell_type": "code",
   "execution_count": 6,
   "metadata": {
    "collapsed": false
   },
   "outputs": [
    {
     "data": {
      "text/plain": [
       "getsum (generic function with 1 method)"
      ]
     },
     "execution_count": 6,
     "metadata": {},
     "output_type": "execute_result"
    }
   ],
   "source": [
    "function getsum(x,y, chn_size)\n",
    "    c=channelGen(x,y, chn_size)\n",
    "    sum(c)\n",
    "end"
   ]
  },
  {
   "cell_type": "markdown",
   "metadata": {},
   "source": [
    "We test"
   ]
  },
  {
   "cell_type": "code",
   "execution_count": 7,
   "metadata": {
    "collapsed": false
   },
   "outputs": [
    {
     "data": {
      "text/plain": [
       "45149"
      ]
     },
     "execution_count": 7,
     "metadata": {},
     "output_type": "execute_result"
    }
   ],
   "source": [
    "getsum(x,y, 10)"
   ]
  },
  {
   "cell_type": "markdown",
   "metadata": {},
   "source": [
    "Identical to earlier result. Now we benchmark  "
   ]
  },
  {
   "cell_type": "code",
   "execution_count": 8,
   "metadata": {
    "collapsed": false
   },
   "outputs": [
    {
     "name": "stdout",
     "output_type": "stream",
     "text": [
      "  27.469 ms (20029 allocations: 316.63 KiB)\n"
     ]
    },
    {
     "data": {
      "text/plain": [
       "45149"
      ]
     },
     "execution_count": 8,
     "metadata": {},
     "output_type": "execute_result"
    }
   ],
   "source": [
    "@btime getsum(x,y, 10)"
   ]
  },
  {
   "cell_type": "markdown",
   "metadata": {},
   "source": [
    "Waw! That is 270 times slower than the baseline. Lets see if channel size makes a difference"
   ]
  },
  {
   "cell_type": "code",
   "execution_count": 9,
   "metadata": {
    "collapsed": false
   },
   "outputs": [
    {
     "name": "stdout",
     "output_type": "stream",
     "text": [
      "  6.972 ms (236 allocations: 11.53 KiB)\n"
     ]
    },
    {
     "data": {
      "text/plain": [
       "45149"
      ]
     },
     "execution_count": 9,
     "metadata": {},
     "output_type": "execute_result"
    }
   ],
   "source": [
    "@btime getsum(x,y, 1000)"
   ]
  },
  {
   "cell_type": "markdown",
   "metadata": {},
   "source": [
    "Much better, only 70 times slower. Would a larger channels be better, lets try"
   ]
  },
  {
   "cell_type": "code",
   "execution_count": 10,
   "metadata": {
    "collapsed": false
   },
   "outputs": [
    {
     "name": "stdout",
     "output_type": "stream",
     "text": [
      "  6.803 ms (60 allocations: 69.22 KiB)\n"
     ]
    },
    {
     "data": {
      "text/plain": [
       "45149"
      ]
     },
     "execution_count": 10,
     "metadata": {},
     "output_type": "execute_result"
    }
   ],
   "source": [
    "@btime getsum(x,y, 10000)"
   ]
  },
  {
   "cell_type": "code",
   "execution_count": 11,
   "metadata": {
    "collapsed": false
   },
   "outputs": [
    {
     "name": "stdout",
     "output_type": "stream",
     "text": [
      "  6.807 ms (41 allocations: 259.11 KiB)\n"
     ]
    },
    {
     "data": {
      "text/plain": [
       "45149"
      ]
     },
     "execution_count": 11,
     "metadata": {},
     "output_type": "execute_result"
    }
   ],
   "source": [
    "@btime getsum(x,y, 100_000)"
   ]
  },
  {
   "cell_type": "markdown",
   "metadata": {},
   "source": [
    "So larger Channel sizes are better, but only marginally so. A smaller channel is much worse due the blocking on the `put!` and `take!`\n",
    "\n",
    "A more convenient style would be to employ a generator  "
   ]
  },
  {
   "cell_type": "code",
   "execution_count": 12,
   "metadata": {
    "collapsed": false
   },
   "outputs": [
    {
     "data": {
      "text/plain": [
       "getsum_gen (generic function with 1 method)"
      ]
     },
     "execution_count": 12,
     "metadata": {},
     "output_type": "execute_result"
    }
   ],
   "source": [
    "function getsum_gen(x,y) \n",
    "    sum(x[i]^2+y[i]^2>2y[i]^2 for i in eachindex(x))\n",
    "end"
   ]
  },
  {
   "cell_type": "code",
   "execution_count": 13,
   "metadata": {
    "collapsed": false
   },
   "outputs": [
    {
     "data": {
      "text/plain": [
       "45149"
      ]
     },
     "execution_count": 13,
     "metadata": {},
     "output_type": "execute_result"
    }
   ],
   "source": [
    "getsum_gen(x,y)"
   ]
  },
  {
   "cell_type": "code",
   "execution_count": 14,
   "metadata": {
    "collapsed": false
   },
   "outputs": [
    {
     "name": "stdout",
     "output_type": "stream",
     "text": [
      "  125.431 μs (4 allocations: 96 bytes)\n"
     ]
    },
    {
     "data": {
      "text/plain": [
       "45149"
      ]
     },
     "execution_count": 14,
     "metadata": {},
     "output_type": "execute_result"
    }
   ],
   "source": [
    "@btime getsum_gen(x,y)"
   ]
  },
  {
   "cell_type": "markdown",
   "metadata": {},
   "source": [
    "This is just slightly slower than the baseline, but e code looks very clean. \n",
    "\n",
    "In contrast if we can try have a version this function with a standard array for the result before the summation. "
   ]
  },
  {
   "cell_type": "code",
   "execution_count": 15,
   "metadata": {
    "collapsed": false
   },
   "outputs": [
    {
     "data": {
      "text/plain": [
       "getsum_arr (generic function with 1 method)"
      ]
     },
     "execution_count": 15,
     "metadata": {},
     "output_type": "execute_result"
    }
   ],
   "source": [
    "function getsum_arr(x,y) \n",
    "    r=[x[i]^2+y[i]^2>2y[i]^2 for i in eachindex(x)]\n",
    "    sum(r)\n",
    "end"
   ]
  },
  {
   "cell_type": "code",
   "execution_count": 16,
   "metadata": {
    "collapsed": false
   },
   "outputs": [
    {
     "data": {
      "text/plain": [
       "45149"
      ]
     },
     "execution_count": 16,
     "metadata": {},
     "output_type": "execute_result"
    }
   ],
   "source": [
    "getsum_arr(x,y) "
   ]
  },
  {
   "cell_type": "code",
   "execution_count": 17,
   "metadata": {
    "collapsed": false
   },
   "outputs": [
    {
     "name": "stdout",
     "output_type": "stream",
     "text": [
      "  150.571 μs (6 allocations: 97.86 KiB)\n"
     ]
    },
    {
     "data": {
      "text/plain": [
       "45149"
      ]
     },
     "execution_count": 17,
     "metadata": {},
     "output_type": "execute_result"
    }
   ],
   "source": [
    "@btime getsum_arr(x,y)"
   ]
  },
  {
   "cell_type": "markdown",
   "metadata": {},
   "source": [
    "Slower with more memory allocation due to the generation of the intermediate `r` array.  \n",
    "\n",
    "Now are ready to try out an Iterator implementation"
   ]
  },
  {
   "cell_type": "code",
   "execution_count": 18,
   "metadata": {
    "collapsed": false
   },
   "outputs": [
    {
     "data": {
      "text/plain": [
       "45149"
      ]
     },
     "execution_count": 18,
     "metadata": {},
     "output_type": "execute_result"
    }
   ],
   "source": [
    "struct BinGenrator{T}\n",
    "    x::Vector{T}\n",
    "    y::Vector{T}\n",
    "    f::Function\n",
    "end\n",
    "\n",
    "Base.start(b::BinGenrator)=1\n",
    "Base.next(b::BinGenrator,i)=(b.f(x[i],y[i]),i+1)\n",
    "Base.done(b::BinGenrator,i)=i>length(b.x)\n",
    "\n",
    "f(x,y)=x^2+y^2>2y^2\n",
    "bg=BinGenrator(x,y,f)\n",
    "\n",
    "sum(bg)"
   ]
  },
  {
   "cell_type": "code",
   "execution_count": 19,
   "metadata": {
    "collapsed": false
   },
   "outputs": [
    {
     "name": "stdout",
     "output_type": "stream",
     "text": [
      "  7.850 ms (297865 allocations: 4.55 MiB)\n"
     ]
    },
    {
     "data": {
      "text/plain": [
       "45149"
      ]
     },
     "execution_count": 19,
     "metadata": {},
     "output_type": "execute_result"
    }
   ],
   "source": [
    "@btime sum(bg)"
   ]
  },
  {
   "cell_type": "markdown",
   "metadata": {},
   "source": [
    "This is even slower than the generator as doing too much allocation "
   ]
  },
  {
   "cell_type": "code",
   "execution_count": 20,
   "metadata": {
    "collapsed": false
   },
   "outputs": [
    {
     "data": {
      "text/plain": [
       "45149"
      ]
     },
     "execution_count": 20,
     "metadata": {},
     "output_type": "execute_result"
    }
   ],
   "source": [
    "bg=BinGenrator(x,y,(x,y) -> x^2+y^2>2y^2)\n",
    "\n",
    "sum(bg)"
   ]
  },
  {
   "cell_type": "code",
   "execution_count": 21,
   "metadata": {
    "collapsed": false
   },
   "outputs": [
    {
     "name": "stdout",
     "output_type": "stream",
     "text": [
      "  7.334 ms (297865 allocations: 4.55 MiB)\n"
     ]
    },
    {
     "data": {
      "text/plain": [
       "45149"
      ]
     },
     "execution_count": 21,
     "metadata": {},
     "output_type": "execute_result"
    }
   ],
   "source": [
    "@btime sum(bg)"
   ]
  },
  {
   "cell_type": "markdown",
   "metadata": {},
   "source": [
    "...with an anonymous function it is faster! "
   ]
  },
  {
   "cell_type": "markdown",
   "metadata": {},
   "source": [
    "### In conclusion:\n",
    "1. If you want top performance write specialized function like `fast_counter` \n",
    "2. Generators will be your second choice, a slight penalty in performance with elegant code\n",
    "3. Storing the results in a intermediate array and then performing a final reduction on them is comparable to (2)\n",
    "4. A suitably sized Channel can work even better than a custom iterator, but requires some experimentation\n",
    "5. For trivial computation such shown here, the iterator interface might not be the best choice "
   ]
  }
 ],
 "metadata": {
  "kernelspec": {
   "display_name": "Julia 0.6.0-rc3",
   "language": "julia",
   "name": "julia-0.6"
  },
  "language_info": {
   "file_extension": ".jl",
   "mimetype": "application/julia",
   "name": "julia",
   "version": "0.6.3"
  }
 },
 "nbformat": 4,
 "nbformat_minor": 1
}
